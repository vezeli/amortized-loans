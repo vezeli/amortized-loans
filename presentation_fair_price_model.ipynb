{
 "cells": [
  {
   "cell_type": "markdown",
   "id": "f29ab881",
   "metadata": {},
   "source": [
    "Author: Velibor Zeli\n",
    "\n",
    "This document is released under a common license, allowing for broad usage and distribution."
   ]
  },
  {
   "cell_type": "markdown",
   "id": "6b8694d4",
   "metadata": {},
   "source": [
    "# Fair-Price Models for Loans"
   ]
  },
  {
   "cell_type": "markdown",
   "id": "4730f280",
   "metadata": {},
   "source": [
    "Fair-price models for annuity loans quantify the **relationship between the cost of borrowing and interest rates**. As interest rates increase, it becomes more difficult to service the interest and repay a mortgage. Consequently, all else being equal, borrowers take out loans with a smaller principal to compensate for higher interest rates. This, in turn, can have an impact on the housing market, potentially leading to lower housing prices."
   ]
  },
  {
   "cell_type": "markdown",
   "id": "5e56a2aa",
   "metadata": {},
   "source": [
    "### Motivation"
   ]
  },
  {
   "cell_type": "markdown",
   "id": "66b9c8c7",
   "metadata": {},
   "source": [
    "Annuity loans are a popular debt instrument widely used to finance housing purchases. These loans provide liquidity to the housing market, and abundance of cheap capital with low interest rates has resulted in higher housing costs.\n",
    "\n",
    "Consider the following figure"
   ]
  },
  {
   "cell_type": "code",
   "execution_count": 1,
   "id": "d557bb8c",
   "metadata": {},
   "outputs": [
    {
     "data": {
      "image/png": "[encoded data removed]",
      "text/plain": [
       "<Figure size 432x288 with 2 Axes>"
      ]
     },
     "metadata": {
      "needs_background": "light"
     },
     "output_type": "display_data"
    }
   ],
   "source": [
    "from src.plotting import plot_interest_rate_vs_home_prices\n",
    "\n",
    "plot_interest_rate_vs_home_prices()"
   ]
  },
  {
   "cell_type": "markdown",
   "id": "7661a1e9",
   "metadata": {},
   "source": [
    "Assuming a causal relationship between these factors, the above figures shows that lower interest rates provide access to cheap capital and lead to an increase in housing prices. Therefore, it is reasonable to expect that increasing interest rates would have the opposite effect on the housing prices."
   ]
  },
  {
   "cell_type": "markdown",
   "id": "0894d040",
   "metadata": {},
   "source": [
    "After maintaining a loose interest rate policy with negative policy rate (Swe., styrräntan) since 2015, Riksbanken shifted its stance and began aggressively increasing the policy rate in early 2022. This decision directly impacted STIBOR as well as the interest rates charged by banks for annuity loans."
   ]
  },
  {
   "cell_type": "markdown",
   "id": "e1a60560",
   "metadata": {},
   "source": [
    "---"
   ]
  },
  {
   "cell_type": "markdown",
   "id": "067b9e83",
   "metadata": {},
   "source": [
    "### Annuity Loans (Swe., annuitetslån) - Matching-Times Model"
   ]
  },
  {
   "cell_type": "markdown",
   "id": "0f91fc81",
   "metadata": {},
   "source": [
    "The total cost of borrowing, denoted by $\\Sigma$, for an annuity loan is defined as\n",
    "\n",
    "$$ \\Sigma = A \\, T, \\qquad (1) $$\n",
    "\n",
    "where $T$ is the duration of the loan in months, and $A$ is the fixed monthly payment that consists of interest rate payment and principal repayment. Monthly payment is calculated based on the loan contract parameters as\n",
    "\n",
    "$$ A = p \\frac{r}{1 - \\left( \\frac{1}{1 + r} \\right)^T}, \\qquad (2a)$$\n",
    "\n",
    "where $p$ is the loan principal, $r$ is the monthly interest rate."
   ]
  },
  {
   "cell_type": "markdown",
   "id": "0d743ed8",
   "metadata": {},
   "source": [
    "Solving $(2a)$ for the loan term gives\n",
    "\n",
    "$$ T = \\frac{\\ln\\left(1 - r \\frac{p}{A} \\right)}{\\ln\\left( \\frac{1}{1+r} \\right)}. \\qquad (2b) $$"
   ]
  },
  {
   "cell_type": "markdown",
   "id": "71d837bb",
   "metadata": {},
   "source": [
    "We introduce two key terms that are used in determining the repayment duration for housing:\n",
    "\n",
    "* $\\Sigma$ - total cost of borrowing, encompassing the principal amount borrowed and the associated interest\n",
    "\n",
    "* $\\sigma$ - portion of income allocated towards housing expenses\n",
    "\n",
    "Together, these terms establish the time scale $t$, which represents the number of years required to fully repay the initial principal and interest for housing\n",
    "\n",
    "$$ \\frac{\\Sigma}{\\sigma} \\equiv t. \\qquad (3a) $$\n",
    "\n",
    "Depending on the location of the housing, borrowers with mortgages may exhibit different values of $ t $. $(3a)$ implies that $t$ is equivalent to the loan duration $T$ and leads to:\n",
    "\n",
    "$$ \\frac{\\Sigma}{\\sigma} = T. \\qquad (3b) $$"
   ]
  },
  {
   "cell_type": "markdown",
   "id": "417a4be3",
   "metadata": {},
   "source": [
    ">_There exists a time scale $T$ that represents the duration required to pay off a mortgage. Depending on the location of the housing, borrowers with mortgages may exhibit different values of $T$. Equation $(3b)$ implies that $T$ is influenced by a delicate balance between various markets: the labor market, the financial market, and the housing market. Specifically, $T$ is shaped by factors such as monthly income in the labor market, prevailing interest rates in the financial market, and the initial loan principal in the housing market. These interconnected market dynamics contribute to the determination of $T$, reflecting the complexity involved in the repayment process._"
   ]
  },
  {
   "cell_type": "markdown",
   "id": "dc4c3c2b",
   "metadata": {},
   "source": [
    "This means that we can equate\n",
    "\n",
    "$$ T_1 = T_2, $$\n",
    "\n",
    "implying that homebuyers repay their homes after the same amount of time under different economic circumstances. By substituting $(2b)$ into the above equality, we can solve for $p_2$\n",
    "\n",
    "$$ p_2 = \\frac{A_2}{r_2} \\left[ 1 - \\left( 1 - r_1 \\frac{p_1}{A_1} \\right)^{ \\frac{\\ln\\left( \\frac{1}{1 + r_2} \\right)}{\\ln\\left( \\frac{1}{1 + r_1} \\right)} } \\right]. \\qquad (4) $$"
   ]
  },
  {
   "cell_type": "markdown",
   "id": "db25fdbf",
   "metadata": {},
   "source": [
    "Finally, the only unknown is $A$, which can be determined by substituting (1) into (3b)\n",
    "\n",
    "$$ A = \\sigma .$$\n",
    "\n",
    "Here, $\\sigma$ represents the monthly portion of income allocated for housing and is modelled as\n",
    "\n",
    "$$ A = \\sigma = \\frac{s (1 - \\tau) \\,}{12} \\delta, \\qquad (5) $$\n",
    "\n",
    "where $s$ denotes the annual bruto income, $\\tau$ represents the income tax rate, and $\\delta$ indicates the fraction of $s$ allocated for housing."
   ]
  },
  {
   "cell_type": "markdown",
   "id": "97af4a76",
   "metadata": {},
   "source": [
    "---"
   ]
  },
  {
   "cell_type": "markdown",
   "id": "69f9a48b",
   "metadata": {},
   "source": [
    "#### Example 1A\n",
    "\n",
    "Consider an economy with an income tax rate of 30%. A borrower with an annual bruto income of 500,000 SEK intends to take an **annuity loan** for 2,000,000 SEK at an annaul interest rate of 1.5% and is willing to allocate 50% of her income to service the loan. She anticipates a change in the annual interest rate to 5% in 1.5 years. Meanwhile, her annual salary has increased by 2%. She seeks to determine the equivalent principal $p_2$ for the previous loan under the new circumstances."
   ]
  },
  {
   "cell_type": "markdown",
   "id": "ecbb9995",
   "metadata": {},
   "source": [
    "Parameters for the loan at $t_1$:\n",
    "\n",
    "* `tau = 0.30`\n",
    "* `p1 = 2_000_000`\n",
    "* `r1 = 0.015`\n",
    "* `s1 = 500_000`\n",
    "* `delta = 0.50`\n",
    "* `r2 = 0.05`\n",
    "* `gamma = 0.02`\n",
    "* `s2 = 500_000 * (1 + gamma)`"
   ]
  },
  {
   "cell_type": "code",
   "execution_count": 2,
   "id": "0962d853",
   "metadata": {},
   "outputs": [],
   "source": [
    "gamma, tau, delta = 0.02, 0.30, 0.50\n",
    "p1, r1, s1 = 2_000_000, 0.015, 500_000\n",
    "r2, s2 = 0.050, 500_000 * (1 + gamma)"
   ]
  },
  {
   "cell_type": "code",
   "execution_count": 3,
   "id": "87ff5615",
   "metadata": {},
   "outputs": [
    {
     "name": "stdout",
     "output_type": "stream",
     "text": [
      "Monthly payment at t1: 14,600.00 SEK\n"
     ]
    }
   ],
   "source": [
    "A1 = s1 * (1 - tau) * delta / 12\n",
    "print(f\"Monthly payment at t1: {round(A1, -2):,.2f} SEK\")"
   ]
  },
  {
   "cell_type": "code",
   "execution_count": 4,
   "id": "6a054a3c",
   "metadata": {},
   "outputs": [
    {
     "name": "stdout",
     "output_type": "stream",
     "text": [
      "Monthly payment at t2: 14,900.00 SEK\n"
     ]
    }
   ],
   "source": [
    "A2 = s1 * (1 + gamma) * (1 - tau) * delta / 12\n",
    "print(f\"Monthly payment at t2: {round(A2, -2):,.2f} SEK\")"
   ]
  },
  {
   "cell_type": "code",
   "execution_count": 5,
   "id": "f557e9af",
   "metadata": {},
   "outputs": [
    {
     "name": "stdout",
     "output_type": "stream",
     "text": [
      "Equivalent principal: 1,660,891.75 SEK\n"
     ]
    }
   ],
   "source": [
    "from src.fair_price_model import annuity_matching_T\n",
    "\n",
    "p2 = annuity_matching_T(p1, s1, r1, r2, tau, delta, gamma)\n",
    "print(f\"Equivalent principal: {p2:,.2f} SEK\")"
   ]
  },
  {
   "cell_type": "code",
   "execution_count": 6,
   "id": "31b84e22",
   "metadata": {},
   "outputs": [
    {
     "name": "stdout",
     "output_type": "stream",
     "text": [
      "Equivalent principal: -16.96% SEK\n"
     ]
    }
   ],
   "source": [
    "print(f\"Equivalent principal: {(p2 - p1)/p1:.2%} SEK\")"
   ]
  },
  {
   "cell_type": "markdown",
   "id": "d98c40cc",
   "metadata": {},
   "source": [
    "---"
   ]
  },
  {
   "cell_type": "markdown",
   "id": "a74a2cbe",
   "metadata": {},
   "source": [
    "### Amortized Loans (Swe., rak amortering) - Matching-Times Model"
   ]
  },
  {
   "cell_type": "markdown",
   "id": "91387d07",
   "metadata": {},
   "source": [
    "Unlike annuity loans, where the monthly payments remain fixed until the loan is fully repaid, amortized loans and interest charge on the remaining principal. The nominal value of the amortization remains constant, while the interest gradually decreases until the loan is completely paid off. Amortized loans are a widely preferred financial product for mortgages in Sweden. This makes the fair price model using amortized loans more suitable for modeling the Swedish housing market."
   ]
  },
  {
   "cell_type": "markdown",
   "id": "44be0c99",
   "metadata": {},
   "source": [
    "Fair price model for amortized loans is derived in similar way as for annuity loans. The total cost for borrowing is defined as\n",
    "\n",
    "$$\\Sigma = \\sum_{t = 0}^{T_p} \\left[ A + (p - A t) r \\right], \\qquad (6) $$\n",
    "\n",
    "where the first term in the sum is the amortization (i.e., repayment of the principal), the second term is the interest payment and $T_p$ is the natural number of months needed to pay off the loan."
   ]
  },
  {
   "cell_type": "markdown",
   "id": "99c60947",
   "metadata": {},
   "source": [
    "Expanding (6) gives\n",
    "\n",
    "$$\\Sigma = A \\sum_{t=0}^{T_p} 1 + p\\,r \\sum_{t=0}^{T_p} 1 - A\\,r \\sum_{t=0}^{T_p} t, $$\n",
    "\n",
    "using $p = A \\, T_p$ together with the simple sum rule for the first two terms and the [arithmetic progression](https://en.wikipedia.org/wiki/Arithmetic_progression#Sum) for the last term gives\n",
    "\n",
    "$$ \\Sigma = p + r \\, T_p \\, p - r \\,  T_p \\, A \\frac{T_p - 1}{2}. \\qquad (7) $$\n",
    "\n",
    "Note that the interest rate for the last term in the arithmetic progression (when $t = T_p$) is zero and therefore the arithmetic progression goes up to $T_p - 1$ and has $T_p$ terms in the sum, including $t = 0$."
   ]
  },
  {
   "cell_type": "markdown",
   "id": "49d74095",
   "metadata": {},
   "source": [
    "The total cost of borrowing can be rewritten in terms of the time required to repay the total cost of borrowing \n",
    "\n",
    "$$\n",
    "\\begin{align}\n",
    "\\hat T &= \\frac{\\sigma}{A} \\\\\n",
    "&= T_p + r \\, {T_p}^2 - r \\, T_p \\frac{T_p - 1}{2},\n",
    "\\end{align}\n",
    "$$\n",
    "\n",
    "and can be finally simpliefied to\n",
    "\n",
    "$$ \\hat T = T_p + r \\, T_p \\frac{1 + T_p}{2}. \\qquad (8)$$\n",
    "\n",
    "The total time required to repay the loan is the sum of time required to repay the principal and interest. Interestingly, the time required to repay the interest, the second term in (8), is a quadratic function of time required to repay the principal."
   ]
  },
  {
   "cell_type": "markdown",
   "id": "fe1fecde",
   "metadata": {},
   "source": [
    "To find a fair price model, we equate the time required to repay the total cost of borrowing, under different interest rate environments\n",
    "\n",
    "$$\\hat T_1 = \\hat T_2, \\qquad (9) $$\n",
    "\n",
    "where the indices 1 and 2 represent the lower rate regime and the higher rate regime, respectively. Substituting (8) into (9) and simplifying gives \n",
    "\n",
    "$$ \\frac{r_2}{2} {{T_p}_2}^2 + \\left( 1 + \\frac{r_2}{2} \\right) {T_p}_2 - {T_p}_1 \\left( 1 + \\frac{r_1}{2} (1 + {T_p}_1) \\right) = 0, \\qquad (10) $$\n",
    "\n",
    "where all terms are known except for ${T_p}_2$."
   ]
  },
  {
   "cell_type": "markdown",
   "id": "b7333d80",
   "metadata": {},
   "source": [
    "Finally, after solving the quadratic equation and finding the true solution for ${T_p}_2$ we find\n",
    "\n",
    "$$ p_2 = A_2 {T_p}_2, $$\n",
    "\n",
    "which represents the equivalent principal in the regime with new rates."
   ]
  },
  {
   "cell_type": "markdown",
   "id": "035f26e6",
   "metadata": {},
   "source": [
    "---"
   ]
  },
  {
   "cell_type": "markdown",
   "id": "7099ab49",
   "metadata": {},
   "source": [
    "#### Example 1B"
   ]
  },
  {
   "cell_type": "markdown",
   "id": "d3a7ca3a",
   "metadata": {},
   "source": [
    "Considering the problem description given in **Example 1A** and find the equivalent principal $p_2$ for an **amortized loan**. "
   ]
  },
  {
   "cell_type": "code",
   "execution_count": 7,
   "id": "483d0433",
   "metadata": {},
   "outputs": [],
   "source": [
    "gamma, tau, delta = 0.02, 0.30, 0.50\n",
    "p1, r1, s1 = 2_000_000, 0.015, 500_000\n",
    "r2, s2 = 0.050, 500_000 * (1 + gamma)"
   ]
  },
  {
   "cell_type": "code",
   "execution_count": 8,
   "id": "a64c8d2f",
   "metadata": {},
   "outputs": [
    {
     "name": "stdout",
     "output_type": "stream",
     "text": [
      "Monthly payment at t1: 14,600.00 SEK\n"
     ]
    }
   ],
   "source": [
    "A1 = s1 * (1 - tau) * delta / 12\n",
    "print(f\"Monthly payment at t1: {round(A1, -2):,.2f} SEK\")"
   ]
  },
  {
   "cell_type": "code",
   "execution_count": 9,
   "id": "2dd58a48",
   "metadata": {},
   "outputs": [
    {
     "name": "stdout",
     "output_type": "stream",
     "text": [
      "Monthly payment at t2: 14,900.00 SEK\n"
     ]
    }
   ],
   "source": [
    "A2 = s1 * (1 + gamma) * (1 - tau) * delta / 12\n",
    "print(f\"Monthly payment at t2: {round(A2, -2):,.2f} SEK\")"
   ]
  },
  {
   "cell_type": "code",
   "execution_count": 10,
   "id": "9c735899",
   "metadata": {},
   "outputs": [
    {
     "name": "stdout",
     "output_type": "stream",
     "text": [
      "Equivalent principal: 1,772,444.98 SEK\n"
     ]
    }
   ],
   "source": [
    "from src.fair_price_model import amortized_matching_T\n",
    "\n",
    "p2 = amortized_matching_T(p1, s1, r1, r2, tau, delta, gamma)\n",
    "print(f\"Equivalent principal: {p2:,.2f} SEK\")"
   ]
  },
  {
   "cell_type": "code",
   "execution_count": 11,
   "id": "b4004bc8",
   "metadata": {},
   "outputs": [
    {
     "name": "stdout",
     "output_type": "stream",
     "text": [
      "Equivalent principal: -11.38% SEK\n"
     ]
    }
   ],
   "source": [
    "print(f\"Equivalent principal: {(p2 - p1)/p1:.2%} SEK\")"
   ]
  },
  {
   "cell_type": "markdown",
   "id": "4417747d",
   "metadata": {},
   "source": [
    "---"
   ]
  },
  {
   "cell_type": "markdown",
   "id": "4ac22374",
   "metadata": {},
   "source": [
    "#### Example 2A"
   ]
  },
  {
   "cell_type": "markdown",
   "id": "46221bd7",
   "metadata": {},
   "source": [
    "For the parameters given in **Example 1A** calculate the relative change of equivalent principal $p_2$ compared to $p_1$ for a range of borrowers with different *ANNUITY LOAN* sizes $\\rho = p_1/s_1 \\in [2, 5.5]$ and fractions allocated to repaying the debt $\\delta \\in [0.25, 1]$."
   ]
  },
  {
   "cell_type": "code",
   "execution_count": 12,
   "id": "40e7e37e",
   "metadata": {},
   "outputs": [],
   "source": [
    "%%capture\n",
    "import numpy as np\n",
    "\n",
    "from src.plotting import plot_annuity_matching_T\n",
    "\n",
    "gamma, tau, deltas = 0.02, 0.30, np.arange(0.3, 1.01, 0.01)\n",
    "p1, r1, rhos = 2_000_000, 0.015, np.arange(2, 5.5, 0.05)\n",
    "r2, s2 = 0.050, 500_000 * (1 + gamma)\n",
    "\n",
    "plot_annuity_matching_T(p1, rhos, r1, r2, tau, deltas, gamma)"
   ]
  },
  {
   "cell_type": "markdown",
   "id": "d354ca98",
   "metadata": {},
   "source": [
    "#### Example 2B"
   ]
  },
  {
   "cell_type": "markdown",
   "id": "6e786c61",
   "metadata": {},
   "source": [
    "For the parameters given in **Example 1A** calculate the relative change of equivalent principal $p_2$ compared to $p_1$ for a range of borrowers with different *AMORTIZED LOAN* sizes $\\rho = p_1/s_1 \\in [2, 5.5]$ and fractions allocated to repaying the debt $\\delta \\in [0.25, 1]$."
   ]
  },
  {
   "cell_type": "code",
   "execution_count": 13,
   "id": "06f2bc0d",
   "metadata": {},
   "outputs": [],
   "source": [
    "%%capture\n",
    "import numpy as np\n",
    "\n",
    "from src.plotting import plot_amortized_matching_T\n",
    "\n",
    "gamma, tau, deltas = 0.02, 0.30, np.arange(0.25, 1.01, 0.01)\n",
    "p1, r1, rhos = 2_000_000, 0.015, np.arange(2, 5.5, 0.05)\n",
    "r2, s2 = 0.050, 500_000 * (1 + gamma)\n",
    "\n",
    "plot_amortized_matching_T(p1, rhos, r1, r2, tau, deltas, gamma)"
   ]
  }
 ],
 "metadata": {
  "kernelspec": {
   "display_name": "Python 3 (ipykernel)",
   "language": "python",
   "name": "python3"
  },
  "language_info": {
   "codemirror_mode": {
    "name": "ipython",
    "version": 3
   },
   "file_extension": ".py",
   "mimetype": "text/x-python",
   "name": "python",
   "nbconvert_exporter": "python",
   "pygments_lexer": "ipython3",
   "version": "3.10.4"
  }
 },
 "nbformat": 4,
 "nbformat_minor": 5
}
