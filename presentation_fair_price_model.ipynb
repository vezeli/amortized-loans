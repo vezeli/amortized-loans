{
 "cells": [
  {
   "cell_type": "markdown",
   "id": "f29ab881",
   "metadata": {},
   "source": [
    "Author: Velibor Zeli\n",
    "\n",
    "This document is released under a common license, allowing for broad usage and distribution."
   ]
  },
  {
   "cell_type": "markdown",
   "id": "6b8694d4",
   "metadata": {},
   "source": [
    "# Fair-Price Models for Amortized Loans"
   ]
  },
  {
   "cell_type": "markdown",
   "id": "4730f280",
   "metadata": {},
   "source": [
    "Fair-price models for amortized loans quantify the **relationship between cost of borrowing and interest rates**. As the loan principal and/or interest rates increase it becomes more difficult to service the interest and repay a mortgage."
   ]
  },
  {
   "cell_type": "markdown",
   "id": "5e56a2aa",
   "metadata": {},
   "source": [
    "### Motivation"
   ]
  },
  {
   "cell_type": "markdown",
   "id": "66b9c8c7",
   "metadata": {},
   "source": [
    "Amortized loans are a popular debt instrument widely used to finance housing purchases. These loans provide liquidity to the housing market, and abundance of cheap capital with low interest rates has resulted in higher housing costs.\n",
    "\n",
    "Consider the following figure"
   ]
  },
  {
   "cell_type": "markdown",
   "id": "e5e1e93e",
   "metadata": {},
   "source": [
    "* Stockholm Interbank Offered Rate - STIBOR (Add BBG figure)"
   ]
  },
  {
   "cell_type": "markdown",
   "id": "332184f0",
   "metadata": {},
   "source": [
    "* Housing index in Sweden for the same period (Add BBG figure)"
   ]
  },
  {
   "cell_type": "markdown",
   "id": "7661a1e9",
   "metadata": {},
   "source": [
    "Assuming a causal relationship between these factors, the above figures shows that lower interest rates provide access to cheap capital and lead to an increase in housing prices. Therefore, it is reasonable to expect that increasing interest rates would have the opposite effect on the housing prices."
   ]
  },
  {
   "cell_type": "markdown",
   "id": "0894d040",
   "metadata": {},
   "source": [
    "After maintaining a loose interest rate policy with negative policy rate (Swe., styrräntan) since 2015, Riksbanken shifted its stance and began aggressively increasing the policy rate in early 2022. This decision directly impacted STIBOR as well as the interest rates charged by banks for amortized loans."
   ]
  },
  {
   "cell_type": "markdown",
   "id": "e1a60560",
   "metadata": {},
   "source": [
    "---"
   ]
  },
  {
   "cell_type": "markdown",
   "id": "e5063a6a",
   "metadata": {},
   "source": [
    "### Matching-Times Model"
   ]
  },
  {
   "cell_type": "markdown",
   "id": "0f91fc81",
   "metadata": {},
   "source": [
    "The total cost of borrowing, denoted by $\\Sigma$, for an amortized loan is defined as\n",
    "\n",
    "$$ \\Sigma = A \\, T, \\qquad (1) $$\n",
    "\n",
    "where $T$ is the duration of the loan in months, and $A$ is the fixed monthly payment that consists of interest rate payment and amortization. Monthly payment is calculated based on the loan contract parameters as\n",
    "\n",
    "$$ A = p \\frac{r}{1 - \\left( \\frac{1}{1 + r} \\right)^T}, \\qquad (2a)$$\n",
    "\n",
    "where $p$ is the loan principal, $r$ is the monthly interest rate."
   ]
  },
  {
   "cell_type": "markdown",
   "id": "0d743ed8",
   "metadata": {},
   "source": [
    "Solving $(2a)$ for the loan term gives\n",
    "\n",
    "$$ T = \\frac{\\ln\\left(1 - r \\frac{p}{A} \\right)}{\\ln\\left( \\frac{1}{1+r} \\right)}. \\qquad (2b) $$"
   ]
  },
  {
   "cell_type": "markdown",
   "id": "71d837bb",
   "metadata": {},
   "source": [
    "We introduce two key terms that are used in determining the repayment duration for housing:\n",
    "\n",
    "* $\\Sigma$ - total cost of borrowing, encompassing the principal amount borrowed and the associated interest\n",
    "\n",
    "* $\\sigma$ - portion of income allocated towards housing expenses\n",
    "\n",
    "Together, these terms establish the time scale $t$, which represents the number of years required to fully repay the initial principal and interest for housing. Mathematically, we express this relationship as:\n",
    "\n",
    "Together, these terms establish the time scale $t$, which represents the number of years required to fully repay the initial principal and interest for housing\n",
    "\n",
    "$$ \\frac{\\Sigma}{\\sigma} \\equiv t. \\qquad (3a) $$\n",
    "\n",
    "Depending on the location of the housing, borrowers with mortgages may exhibit different values of $ t $. $(3a)$ implies that $t$ is equivalent to the loan duration $T$ and leads to:\n",
    "\n",
    "$$ \\frac{\\Sigma}{\\sigma} = T. \\qquad (3b) $$"
   ]
  },
  {
   "cell_type": "markdown",
   "id": "417a4be3",
   "metadata": {},
   "source": [
    ">_There exists a time scale $T$ that represents the duration required to pay off a mortgage. Depending on the location of the housing, borrowers with mortgages may exhibit different values of $T$. Equation $(3b)$ implies that $T$ is influenced by a delicate balance between various markets: the labor market, the financial market, and the housing market. Specifically, $T$ is shaped by factors such as monthly income in the labor market, prevailing interest rates in the financial market, and the initial loan principal in the housing market. These interconnected market dynamics contribute to the determination of $T$, reflecting the complexity involved in the repayment process._"
   ]
  },
  {
   "cell_type": "markdown",
   "id": "dc4c3c2b",
   "metadata": {},
   "source": [
    "This means that we can equate\n",
    "\n",
    "$$ T_1 = T_2, $$\n",
    "\n",
    "implying that homebuyers repay their homes after the same amount of time under different economic circumstances. By substituting $(2b)$ into the above equality, we can solve for $p_2$\n",
    "\n",
    "$$ p_2 = \\frac{A_2}{r_2} \\left[ 1 - \\left( 1 - r_1 \\frac{p_1}{A_1} \\right)^{ \\frac{\\ln\\left( \\frac{1}{1 + r_2} \\right)}{\\ln\\left( \\frac{1}{1 + r_1} \\right)} } \\right]. \\qquad (4) $$"
   ]
  },
  {
   "cell_type": "markdown",
   "id": "db25fdbf",
   "metadata": {},
   "source": [
    "Finally, the only unknown is $A$, which can be determined by substituting (1) into (3b)\n",
    "\n",
    "$$ A = \\sigma .$$\n",
    "\n",
    "Here, $\\sigma$ represents the monthly portion of income allocated for housing and is modelled as\n",
    "\n",
    "$$ A = \\sigma = \\frac{s (1 - \\tau) \\,}{12} \\delta, \\qquad (5) $$\n",
    "\n",
    "where $s$ denotes the annual bruto income, $\\tau$ represents the income tax rate, and $\\delta$ indicates the fraction of $s$ allocated for housing."
   ]
  },
  {
   "cell_type": "markdown",
   "id": "97af4a76",
   "metadata": {},
   "source": [
    "---"
   ]
  },
  {
   "cell_type": "markdown",
   "id": "69f9a48b",
   "metadata": {},
   "source": [
    "#### Example 1\n",
    "\n",
    "Consider an economy with an income tax rate of 30%. A borrower with an annual bruto income of 500,000 SEK intends to borrow 2,000,000 SEK at an annaul interest rate of 1.5% and is willing to allocate 50% of her income to service the loan. She anticipates a change in the annual interest rate to 4.8% in 1.5 years. Meanwhile, her annual salary has increased by 2% and money markets offered a flat continuously-compounded annual interest rate of 0.75%. She seeks to determine the equivalent principal $p_2$ for the previous loan under the new circumstances."
   ]
  },
  {
   "cell_type": "markdown",
   "id": "ecbb9995",
   "metadata": {},
   "source": [
    "Parameters for the loan at $t_1$:\n",
    "\n",
    "* `tau = 0.30`\n",
    "* `p1 = 2_000_000`\n",
    "* `r1 = 0.015`\n",
    "* `s1 = 500_000`\n",
    "* `delta = 0.50`\n",
    "* `r2 = 0.048`\n",
    "* `gamma = 0.02`\n",
    "* `s2 = 500_000 * (1 + gamma)`\n",
    "* `rf = 0.0075`\n",
    "* `dt = 1.5`"
   ]
  },
  {
   "cell_type": "code",
   "execution_count": 1,
   "id": "0962d853",
   "metadata": {},
   "outputs": [],
   "source": [
    "gamma, tau, delta = 0.02, 0.30, 0.50\n",
    "p1, r1, s1 = 2_000_000, 0.015, 500_000\n",
    "r2, s2 = 0.0480, 500_000 * (1 + 0.02)\n",
    "rf, dt = 0.0075, 1.5"
   ]
  },
  {
   "cell_type": "code",
   "execution_count": 2,
   "id": "87ff5615",
   "metadata": {},
   "outputs": [
    {
     "name": "stdout",
     "output_type": "stream",
     "text": [
      "Monthly payment at t1: 14,600.00 SEK\n"
     ]
    }
   ],
   "source": [
    "A1 = s1 * (1 - tau) * delta / 12\n",
    "print(f\"Monthly payment at t1: {round(A1, -2):,.2f} SEK\")"
   ]
  },
  {
   "cell_type": "code",
   "execution_count": 3,
   "id": "6a054a3c",
   "metadata": {},
   "outputs": [
    {
     "name": "stdout",
     "output_type": "stream",
     "text": [
      "Monthly payment at t2: 14,900.00 SEK\n"
     ]
    }
   ],
   "source": [
    "A2 = s1 * (1 + 0.02) * (1 - tau) * delta / 12\n",
    "print(f\"Monthly payment at t2: {round(A2, -2):,.2f} SEK\")"
   ]
  },
  {
   "cell_type": "code",
   "execution_count": 4,
   "id": "f557e9af",
   "metadata": {},
   "outputs": [
    {
     "name": "stdout",
     "output_type": "stream",
     "text": [
      "Discounted equivalent principal: 1,660,986.91 SEK\n"
     ]
    }
   ],
   "source": [
    "import numpy as np\n",
    "\n",
    "from src.fair_price_model import equivalent_principal_matching_T\n",
    "\n",
    "p2 = equivalent_principal_matching_T(p1, s1, r1, r2, tau, delta, gamma) * np.exp(-rf * dt)\n",
    "print(f\"Discounted equivalent principal: {p2:,.2f} SEK\")"
   ]
  },
  {
   "cell_type": "code",
   "execution_count": 5,
   "id": "31b84e22",
   "metadata": {},
   "outputs": [
    {
     "name": "stdout",
     "output_type": "stream",
     "text": [
      "Discounted equivalent principal: -16.95% SEK\n"
     ]
    }
   ],
   "source": [
    "print(f\"Discounted equivalent principal: {(p2 - p1)/p1:.2%} SEK\")"
   ]
  },
  {
   "cell_type": "markdown",
   "id": "30c7798c",
   "metadata": {},
   "source": [
    "---"
   ]
  },
  {
   "cell_type": "markdown",
   "id": "4ac22374",
   "metadata": {},
   "source": [
    "#### Example 2"
   ]
  },
  {
   "cell_type": "markdown",
   "id": "46221bd7",
   "metadata": {},
   "source": [
    "For the parameters given in **Example 1** calculate the relative change of discounted equivalent principal $p_2$ compared to $p_1$ for a range of borrowers with different loan sizes $\\rho = p_1/s_1 \\in [2, 4.5]$ and fractions allocated to repaying the debt $\\delta \\in [0.3, 1]$."
   ]
  },
  {
   "cell_type": "code",
   "execution_count": 6,
   "id": "40e7e37e",
   "metadata": {},
   "outputs": [],
   "source": [
    "%%capture\n",
    "import numpy as np\n",
    "\n",
    "from src.plotting import plot_matching_T\n",
    "\n",
    "gamma, tau, deltas = 0.02, 0.30, np.arange(0.3, 1.01, 0.01)\n",
    "p1, r1, rhos = 2_000_000, 0.015, np.arange(2, 4.5, 0.05)\n",
    "r2, s2 = 0.0480, 500_000 * (1 + 0.02)\n",
    "rf, dt = 0.0025, 1.5\n",
    "\n",
    "plot_matching_T(p1, rhos, r1, r2, tau, deltas, gamma, rf, dt)"
   ]
  }
 ],
 "metadata": {
  "kernelspec": {
   "display_name": "Python 3 (ipykernel)",
   "language": "python",
   "name": "python3"
  },
  "language_info": {
   "codemirror_mode": {
    "name": "ipython",
    "version": 3
   },
   "file_extension": ".py",
   "mimetype": "text/x-python",
   "name": "python",
   "nbconvert_exporter": "python",
   "pygments_lexer": "ipython3",
   "version": "3.10.4"
  }
 },
 "nbformat": 4,
 "nbformat_minor": 5
}
