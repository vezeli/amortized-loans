{
 "cells": [
  {
   "cell_type": "markdown",
   "metadata": {},
   "source": [
    "Author: Velibor Zeli\n",
    "\n",
    "This document is released under a common license, allowing for broad usage and distribution."
   ]
  },
  {
   "cell_type": "markdown",
   "metadata": {},
   "source": [
    "# Mathematics Behind Amortized Loans"
   ]
  },
  {
   "cell_type": "markdown",
   "metadata": {},
   "source": [
    "#### Example 1A\n",
    "    \n",
    "Jim wants to borrow $P_1$ from the bank. He takes an amortized loan with monthly interest rate of $r$ and agrees to make 3 payments $A$ so that he repays the loan in 3 months."
   ]
  },
  {
   "cell_type": "markdown",
   "metadata": {},
   "source": [
    "Payment schedule:\n",
    "\n",
    "|  Month  | Principal | Interest    |  Amortization | Outstanding principal |\n",
    "|---------|-----------|-------------|---------------|-----------------------|\n",
    "|    1    | $P_1$     | $P_1r$      |    A          | $P_2 = P_1(1+r)-A$    |\n",
    "|    2    | $P_2$     | $P_2r$      |    A          | $P_3 = P_2(1+r)-A$    |\n",
    "|    3    | $P_3$     | $P_3r$      |    A          | $P_4 = P_3(1+r)-A$    |\n",
    "|    4    | $P_4 = 0$ |    -        |    -          | -                     |\n",
    "\n",
    "where $P_1 \\gt P_2 \\gt P_3 \\gt P_4$."
   ]
  },
  {
   "cell_type": "markdown",
   "metadata": {},
   "source": [
    "Derivation:"
   ]
  },
  {
   "cell_type": "markdown",
   "metadata": {},
   "source": [
    "After the first month Jim owes the interest on the initial principal $P_1 r$ and makes a payment $A$ which covers the interest and, the leftover, reduces the outstanding principal. The outstanding principal $P_2$ is than\n",
    "    \n",
    "$$ P_2 = P_1 - (A - P_1 r)$$\n",
    "\n",
    "$$ \\; \\; \\; = P_1(1+r) - A .$$"
   ]
  },
  {
   "cell_type": "markdown",
   "metadata": {},
   "source": [
    "After the second month Jim owns the interest $P_2 r$ on the outstanding principal $P_2$ and makes another payment $A$. This further reduces his outstanding principal to\n",
    "\n",
    "$$P_3 = P_2 - (A - P_2r)$$\n",
    "\n",
    "$$ \\; \\; \\; = P_2(1+r) - A $$ \n",
    "\n",
    "$$ \\qquad \\qquad \\qquad  = \\left(P_1 (1+r) - A\\right)(1+r) - A.$$"
   ]
  },
  {
   "cell_type": "markdown",
   "metadata": {},
   "source": [
    "Finally, after the third month Jim makes the last payment $A$ and pays off the interest on the remaining principal and settles the loan\n",
    "\n",
    "$$P_4 = P_3 - (A - P_3r)$$\n",
    "\n",
    "$$ \\; \\; \\; = P_3(1+r) - A $$ \n",
    "\n",
    "$$ \\qquad \\qquad \\qquad \\qquad \\qquad \\quad \\! = (\\left(P_1 (1+r) - A\\right)(1+r) - A)(1+r)-A.$$"
   ]
  },
  {
   "cell_type": "markdown",
   "metadata": {},
   "source": [
    "After the final payment the loan is settled and therefore $P_4 = 0$. Solving the above equation for $A$ using the geometric progression series gives"
   ]
  },
  {
   "cell_type": "markdown",
   "metadata": {},
   "source": [
    "$$ A = P \\frac{r}{1 - \\left( \\frac{1}{1 + r} \\right)^T}, \\qquad (1)$$"
   ]
  },
  {
   "cell_type": "markdown",
   "metadata": {},
   "source": [
    "where the symbols denote\n",
    "\n",
    "* monthly payment $A$\n",
    "* loan principal $P$\n",
    "* monthly interest rate $r$\n",
    "* loan term $T$ in months."
   ]
  },
  {
   "cell_type": "markdown",
   "metadata": {},
   "source": [
    "Do not follow the derivation on [Wikipedia](ttps://en.wikipedia.org/wiki/Amortization_calculator) because it is wrong (consider this as an anti-reference)."
   ]
  },
  {
   "cell_type": "markdown",
   "metadata": {},
   "source": [
    "#### Example 1B"
   ]
  },
  {
   "cell_type": "markdown",
   "metadata": {},
   "source": [
    "Consider a scenario in which Jim borrows 1 000 SEK and promisses to repay it in three months with 0.25% monthly interest rate."
   ]
  },
  {
   "cell_type": "markdown",
   "metadata": {},
   "source": [
    "Parameters:\n",
    "\n",
    "* `p1 = 1_000`\n",
    "* `r = 0.0025`\n",
    "* `T = 3`"
   ]
  },
  {
   "cell_type": "code",
   "execution_count": 1,
   "metadata": {},
   "outputs": [],
   "source": [
    "p1, r, T = 1_000, 0.0025, 3"
   ]
  },
  {
   "cell_type": "code",
   "execution_count": 2,
   "metadata": {},
   "outputs": [
    {
     "name": "stdout",
     "output_type": "stream",
     "text": [
      "Monthly payment: 335.00 SEK\n"
     ]
    }
   ],
   "source": [
    "A = p1 * r / ( 1 - ( 1 / ( 1 + r))**T)\n",
    "\n",
    "print(f\"Monthly payment: {A:.2f} SEK\")"
   ]
  },
  {
   "cell_type": "code",
   "execution_count": 3,
   "metadata": {},
   "outputs": [
    {
     "name": "stdout",
     "output_type": "stream",
     "text": [
      "Initial principle: 1,000.00 SEK\n"
     ]
    }
   ],
   "source": [
    "print(f\"Initial principle: {p1:,.2f} SEK\")"
   ]
  },
  {
   "cell_type": "code",
   "execution_count": 4,
   "metadata": {},
   "outputs": [
    {
     "name": "stdout",
     "output_type": "stream",
     "text": [
      "Principle after the first payment: 667.50 SEK\n"
     ]
    }
   ],
   "source": [
    "p2 = (p1*(1+r)-A)\n",
    "\n",
    "print(f\"Principle after the first payment: {p2:,.2f} SEK\")"
   ]
  },
  {
   "cell_type": "code",
   "execution_count": 5,
   "metadata": {},
   "outputs": [
    {
     "name": "stdout",
     "output_type": "stream",
     "text": [
      "Principle after the second payment: 334.17 SEK\n"
     ]
    }
   ],
   "source": [
    "p3 = (p1*(1+r) - A)*(1+r) - A\n",
    "\n",
    "print(f\"Principle after the second payment: {p3:,.2f} SEK\")"
   ]
  },
  {
   "cell_type": "code",
   "execution_count": 6,
   "metadata": {},
   "outputs": [
    {
     "name": "stdout",
     "output_type": "stream",
     "text": [
      "Principle after the third payment: -0.00 SEK\n"
     ]
    }
   ],
   "source": [
    "p4 = ((p1*(1+r) - A)*(1+r) - A)*(1+r) - A\n",
    "\n",
    "print(f\"Principle after the third payment: {p4:,.2f} SEK\")"
   ]
  },
  {
   "cell_type": "markdown",
   "metadata": {},
   "source": [
    "---"
   ]
  },
  {
   "cell_type": "markdown",
   "metadata": {},
   "source": [
    "#### Example 2A"
   ]
  },
  {
   "cell_type": "markdown",
   "metadata": {},
   "source": [
    "Sue wants to borrow 1 000 SEK from the bank with 4% annual interest rate and agrees to repay the loan in 1 year.\n",
    "\n",
    "- What is her monthly payment?\n",
    "- How much money, in total, does she give to the bank after the loan is settled?\n",
    "\n",
    "Parameters:\n",
    "- `p = 1_000`\n",
    "- `r = 0.04`\n",
    "- `T = 1`"
   ]
  },
  {
   "cell_type": "code",
   "execution_count": 7,
   "metadata": {},
   "outputs": [],
   "source": [
    "from loan_model import get_payment"
   ]
  },
  {
   "cell_type": "code",
   "execution_count": 8,
   "metadata": {},
   "outputs": [],
   "source": [
    "p, r, T = 1_000, 0.04, 1"
   ]
  },
  {
   "cell_type": "code",
   "execution_count": 9,
   "metadata": {},
   "outputs": [],
   "source": [
    "A = get_payment(p, r, T)"
   ]
  },
  {
   "cell_type": "code",
   "execution_count": 10,
   "metadata": {},
   "outputs": [
    {
     "name": "stdout",
     "output_type": "stream",
     "text": [
      "Monthly payment: 85.15 SEK\n"
     ]
    }
   ],
   "source": [
    "print(f\"Monthly payment: {A:.2f} SEK\")"
   ]
  },
  {
   "cell_type": "code",
   "execution_count": 11,
   "metadata": {},
   "outputs": [
    {
     "name": "stdout",
     "output_type": "stream",
     "text": [
      "Total: 1021.80 SEK (102.18% of P)\n"
     ]
    }
   ],
   "source": [
    "print(f\"Total: {12 * T * A:.2f} SEK ({12 * T * A/p:.2%} of P)\")"
   ]
  },
  {
   "cell_type": "markdown",
   "metadata": {},
   "source": [
    "The net profit ($\\eta$) on the loan is\n",
    "\n",
    "$$\\eta = \\frac{1,021.80-1,000.00}{1,000.00} = 2.18\\% ,$$"
   ]
  },
  {
   "cell_type": "markdown",
   "metadata": {},
   "source": [
    "and is **less than the annual interest rate 4.00%, on which Sue borrowed, because Sue held the loan for one year and the outstanding principal is a strictly decreasing function of time.**"
   ]
  },
  {
   "cell_type": "markdown",
   "metadata": {},
   "source": [
    "---"
   ]
  },
  {
   "cell_type": "markdown",
   "metadata": {},
   "source": [
    "#### Example 2B"
   ]
  },
  {
   "cell_type": "markdown",
   "metadata": {},
   "source": [
    "How does the same scenario look like if Sue borrowed the money for 10 years?\n",
    "\n",
    "Parameters:\n",
    "- `P = 1_000`\n",
    "- `r = 0.04`\n",
    "- `T = 10`"
   ]
  },
  {
   "cell_type": "code",
   "execution_count": 12,
   "metadata": {},
   "outputs": [],
   "source": [
    "p, r, T = 1_000, 0.04, 10"
   ]
  },
  {
   "cell_type": "code",
   "execution_count": 13,
   "metadata": {},
   "outputs": [],
   "source": [
    "A = get_payment(p, r, T)"
   ]
  },
  {
   "cell_type": "code",
   "execution_count": 14,
   "metadata": {},
   "outputs": [
    {
     "name": "stdout",
     "output_type": "stream",
     "text": [
      "Monthly payment: 10.12 SEK\n"
     ]
    }
   ],
   "source": [
    "print(f\"Monthly payment: {A:.2f} SEK\")"
   ]
  },
  {
   "cell_type": "code",
   "execution_count": 15,
   "metadata": {},
   "outputs": [
    {
     "name": "stdout",
     "output_type": "stream",
     "text": [
      "Total: 1214.94 SEK (121.49% of P)\n"
     ]
    }
   ],
   "source": [
    "print(f\"Total: {12 * T * A:.2f} SEK ({12 * T * A/p:.2%} of P)\")"
   ]
  },
  {
   "cell_type": "markdown",
   "metadata": {},
   "source": [
    "The net profit ($\\eta$) on the loan is\n",
    "\n",
    "$$\\eta = \\frac{1,214.94-1,000.00}{1,000.00} = 21.49\\% .$$"
   ]
  },
  {
   "cell_type": "markdown",
   "metadata": {},
   "source": [
    "In this scenario, **the monthly payments are lower than in the previous scenario but the net profit for the bank is much higher since Sue decided to hold the loan for longer.**"
   ]
  },
  {
   "cell_type": "markdown",
   "metadata": {},
   "source": [
    "---"
   ]
  },
  {
   "cell_type": "markdown",
   "metadata": {},
   "source": [
    "### Dynamics of Amortized Loans"
   ]
  },
  {
   "cell_type": "markdown",
   "metadata": {},
   "source": [
    "Amortized loans are payed off with monthly payments $A$ that compose of\n",
    "\n",
    "- interest payments $ I_n $\n",
    "- amortization $ A_n^\\prime $ - part that reduces the outstanding principal\n",
    "\n",
    "Therefore, we can write\n",
    "\n",
    "$$ A = I_n + A_n^\\prime .$$"
   ]
  },
  {
   "cell_type": "markdown",
   "metadata": {},
   "source": [
    "#### Example 3A"
   ]
  },
  {
   "cell_type": "markdown",
   "metadata": {},
   "source": [
    "Consider a millennial Svensson family that wants to take on a mortgage and borrow 2 500 000 SEK for 30 years assuming that the family gets 4.5% interest rate.\n",
    "\n",
    "* How does the outstanding principle decrease with time?\n",
    "* How much interest is payed for the loan in total after the loan is settled?"
   ]
  },
  {
   "cell_type": "markdown",
   "metadata": {},
   "source": [
    "Parameters:\n",
    "- `P = 2_500_000`\n",
    "- `r = 0.045`\n",
    "- `T = 30`"
   ]
  },
  {
   "cell_type": "code",
   "execution_count": 16,
   "metadata": {},
   "outputs": [],
   "source": [
    "p, r, T = 2_500_000, 0.045, 30"
   ]
  },
  {
   "cell_type": "code",
   "execution_count": 17,
   "metadata": {},
   "outputs": [],
   "source": [
    "A = get_payment(p, r, T)"
   ]
  },
  {
   "cell_type": "code",
   "execution_count": 18,
   "metadata": {},
   "outputs": [
    {
     "name": "stdout",
     "output_type": "stream",
     "text": [
      "Monthly payment: 12,700 SEK\n"
     ]
    }
   ],
   "source": [
    "print(f\"Monthly payment: {round(A,-2):,.0f} SEK\")"
   ]
  },
  {
   "cell_type": "markdown",
   "metadata": {},
   "source": [
    "Visualization:"
   ]
  },
  {
   "cell_type": "code",
   "execution_count": 19,
   "metadata": {},
   "outputs": [],
   "source": [
    "from plotting import plot_loan_dynamics"
   ]
  },
  {
   "cell_type": "code",
   "execution_count": 20,
   "metadata": {},
   "outputs": [
    {
     "name": "stdout",
     "output_type": "stream",
     "text": [
      "Principal: 2,500,000 SEK; Interest rate: 4.50%; Term: 30 Y => 82.41%\n"
     ]
    },
    {
     "data": {
      "image/png": "[encoded data removed]",
      "text/plain": [
       "<Figure size 432x288 with 1 Axes>"
      ]
     },
     "metadata": {
      "needs_background": "light"
     },
     "output_type": "display_data"
    },
    {
     "data": {
      "image/png": "[encoded data removed]",
      "text/plain": [
       "<Figure size 432x288 with 1 Axes>"
      ]
     },
     "metadata": {
      "needs_background": "light"
     },
     "output_type": "display_data"
    },
    {
     "data": {
      "image/png": "[encoded data removed]",
      "text/plain": [
       "<Figure size 432x288 with 1 Axes>"
      ]
     },
     "metadata": {
      "needs_background": "light"
     },
     "output_type": "display_data"
    }
   ],
   "source": [
    "plot_loan_dynamics(p, r, T)"
   ]
  },
  {
   "cell_type": "markdown",
   "metadata": {},
   "source": [
    "#### Example 3B"
   ]
  },
  {
   "cell_type": "markdown",
   "metadata": {},
   "source": [
    "How much would the Svenssons pay for the same mortgage if their interest rates were 3% or 6%? "
   ]
  },
  {
   "cell_type": "markdown",
   "metadata": {},
   "source": [
    "Parameters:\n",
    "- `P = 2_500_000`\n",
    "- `r1 = 0.030`, `r2 = 0.045`, `r3 = 0.060`\n",
    "- `T = 30`"
   ]
  },
  {
   "cell_type": "code",
   "execution_count": 21,
   "metadata": {},
   "outputs": [],
   "source": [
    "%%capture\n",
    "from plotting import plot_rate_difference\n",
    "\n",
    "p, r1, r2, r3, T = 2_500_000, 0.030, 0.045, 0.060, 30\n",
    "plot_rate_difference(p, r1, r2, r3, T)"
   ]
  },
  {
   "cell_type": "markdown",
   "metadata": {},
   "source": [
    "| Principal [SEK] | Rate [%/Y]   | Term [Y] | $\\eta$ [%] | $I/A$ [%]   |\n",
    "|-----------------|--------------|----------|------------|-------------|\n",
    "| 2 500 000       | 3.0          | 30       |  51.78     |  51.78      |\n",
    "| 2 500 000       | 4.5          | 30       |  82.41     |  82.41      |\n",
    "| 2 500 000       | 6.0          | 30       | 115.84     | 115.84      |"
   ]
  },
  {
   "cell_type": "markdown",
   "metadata": {},
   "source": [
    "Observe that the equality $ \\eta = \\frac{I}{A} $ implies that **the net profit for the lender is the payed interest.**"
   ]
  },
  {
   "cell_type": "markdown",
   "metadata": {},
   "source": [
    "#### Example 3C"
   ]
  },
  {
   "cell_type": "markdown",
   "metadata": {},
   "source": [
    "How much would the Svenssons pay if they decide to pay off the loan, with the original parameters, in 10 or 20 years instead? "
   ]
  },
  {
   "cell_type": "markdown",
   "metadata": {},
   "source": [
    "Parameters:\n",
    "- `P = 2_500_000`\n",
    "- `r = 0.045`\n",
    "- `T1 = 10`, `T2 = 20`, `T3 = 30`"
   ]
  },
  {
   "cell_type": "code",
   "execution_count": 22,
   "metadata": {},
   "outputs": [],
   "source": [
    "%%capture\n",
    "from plotting import plot_term_difference\n",
    "\n",
    "p, r, T1, T2, T3 = 2_500_000, 0.045, 10, 20, 30\n",
    "plot_term_difference(p, r, T1, T2, T3)"
   ]
  },
  {
   "cell_type": "markdown",
   "metadata": {},
   "source": [
    "| Principal [SEK] | Rate [%/Y]          | Term [Y] | $\\eta$ [%] | $I/A$ [%] |\n",
    "|-----------------|---------------------|----------|------------|-----------|\n",
    "| 2 500 000       | 4.5                 | 10       | 24.37      | 24.37     |\n",
    "| 2 500 000       | 4.5                 | 20       | 51.84      | 51.84     |\n",
    "| 2 500 000       | 4.5                 | 30       | 82.41      | 82.41     |"
   ]
  },
  {
   "cell_type": "markdown",
   "metadata": {},
   "source": [
    "---"
   ]
  },
  {
   "cell_type": "markdown",
   "metadata": {},
   "source": [
    "### Time Value of Money"
   ]
  },
  {
   "cell_type": "markdown",
   "metadata": {},
   "source": [
    "#### Example 3D"
   ]
  },
  {
   "cell_type": "markdown",
   "metadata": {},
   "source": [
    "Consider the same scenario in which the Svenssons what to borrow 2 500 000 SEK with interest rate 4.5% and they can choose either loan term 10, 20 or 30 years. Assume that money markets offer a flat continuously-compounded rate of 1.5% over the same period. How does this affect the valuation of future cash flows?"
   ]
  },
  {
   "cell_type": "markdown",
   "metadata": {},
   "source": [
    "Parameters:\n",
    "- `P = 2_500_000`\n",
    "- `r = 0.045`\n",
    "- `T1 = 10`, `T2 = 20`, `T3 = 30`\n",
    "- `rf = 0.015`"
   ]
  },
  {
   "cell_type": "code",
   "execution_count": 23,
   "metadata": {},
   "outputs": [],
   "source": [
    "%%capture\n",
    "from plotting import plot_term_difference\n",
    "\n",
    "p, r, T1, T2, T3, rf = 2_500_000, 0.045, 10, 20, 30, 0.015\n",
    "plot_term_difference(p, r, T1, T2, T3, 0.015)"
   ]
  },
  {
   "cell_type": "markdown",
   "metadata": {},
   "source": [
    "| Principal [SEK] | Rate [%/Y]          | Term [Y] | $\\eta$ [%] | $I/A$ [%] |\n",
    "|-----------------|---------------------|----------|------------|-----------|\n",
    "| 2 500 000       | 4.5                 | 10       | 15.41      | 25.06     |\n",
    "| 2 500 000       | 4.5                 | 20       | 31.09      | 55.26     |\n",
    "| 2 500 000       | 4.5                 | 30       | 46.80      | 91.69     |"
   ]
  },
  {
   "cell_type": "markdown",
   "metadata": {},
   "source": [
    "---"
   ]
  },
  {
   "cell_type": "markdown",
   "metadata": {},
   "source": [
    "### Sensitivities"
   ]
  },
  {
   "cell_type": "markdown",
   "metadata": {},
   "source": [
    "#### Net profit $\\eta$"
   ]
  },
  {
   "cell_type": "markdown",
   "metadata": {},
   "source": [
    "Net profit is defined as the sum of all payments divided by the initial principal\n",
    "\n",
    "$$ \\eta = \\frac{A \\, T}{P}, \\qquad (2)$$\n",
    "\n",
    "and represents the return on the loaned capital for the lender and the total loan cost for the borrower. Substituting (1) in (2) gives\n",
    "\n",
    "$$ \\eta = \\frac{r \\; T}{1 - \\left( \\frac{1}{1 + r} \\right)^T}. \\qquad (3)$$\n",
    "\n",
    "The total change of the net profit with respect to $r$ and $T$ is approximated with Taylor expansion\n",
    "\n",
    "$$ \\mathrm{d} \\eta \\approx \\frac{\\partial \\eta}{\\partial r} \\mathrm{d}r + \\frac{\\partial \\eta}{\\partial T} \\mathrm{d}T + \\frac{1}{2!} \\frac{\\partial^2 \\eta}{\\partial r^2} {\\mathrm{d}r}^2 + \\frac{\\partial^2 \\eta}{\\partial r \\partial T} {\\mathrm{d}r}{\\mathrm{d}T} + \\frac{1}{2!} \\frac{\\partial^2 \\eta}{\\partial T^2} {\\mathrm{d}T}^2, \\qquad (4)$$\n",
    "\n",
    "where $\\frac{\\partial \\eta}{\\partial r}$, $\\frac{\\partial \\eta}{\\partial T}$, $\\frac{\\partial^2 \\eta}{\\partial r^2}$, $\\frac{\\partial^2 \\eta}{\\partial r \\partial T}$ and $\\frac{\\partial^2 \\eta}{\\partial T^2}$ are the sensitivities and $\\mathrm{d}r$ and $\\mathrm{d}T$ are the respective changes of $r$ and $T$. These derivatives are very similar to the so-called greeks in the option pricing theory."
   ]
  },
  {
   "cell_type": "markdown",
   "metadata": {},
   "source": [
    "The first-order terms are dominant for small changes in $r$ and $T$. These can be expanded\n",
    "\n",
    "$$\\frac{\\mathrm{d}\\eta}{\\mathrm{d}T} = r \\frac{1 - \\left( \\frac{1}{1 + r}\\right)^T \\left(1 - T \\ln \\left( \\frac{1}{1 + r} \\right)\\right)}{\\left( 1 - \\left( \\frac{1}{1 + r} \\right)^T \\right)^2},$$\n",
    "\n",
    "and\n",
    "\n",
    "$$ \\frac{\\mathrm{d}\\eta}{\\mathrm{d}r} =  T \\frac{1 - \\left(\\frac{1}{1 + r}\\right)^T \\left( 1 + r T \\left(\\frac{1}{1 + r}\\right)\\right)}{\\left(1 - \\left(\\frac{1}{1 + r}\\right)^T\\right)^2}.$$"
   ]
  },
  {
   "cell_type": "markdown",
   "metadata": {},
   "source": [
    "Interested reader is encouraged to find the higher-order derivatives and apply (4) on the problem setup given in **Example 3**."
   ]
  },
  {
   "cell_type": "markdown",
   "metadata": {},
   "source": [
    "#### Example 4A"
   ]
  },
  {
   "cell_type": "markdown",
   "metadata": {},
   "source": [
    "Plot the net profit $\\eta$ for the loan term $T \\in [5,30]$ years when the interest rates are 3%, 4.5% and 6%."
   ]
  },
  {
   "cell_type": "markdown",
   "metadata": {},
   "source": [
    "Parameters:\n",
    "\n",
    "- `r1 = 0.030`, `r2 = 0.045`, `r3 = 0.060`"
   ]
  },
  {
   "cell_type": "code",
   "execution_count": 24,
   "metadata": {
    "scrolled": true
   },
   "outputs": [
    {
     "data": {
      "image/png": "[encoded data removed]",
      "text/plain": [
       "<Figure size 432x288 with 1 Axes>"
      ]
     },
     "metadata": {
      "needs_background": "light"
     },
     "output_type": "display_data"
    }
   ],
   "source": [
    "from plotting import plot_total_payment_wrt_time\n",
    "\n",
    "r1, r2, r3 = 0.030, 0.045, 0.060\n",
    "plot_total_payment_wrt_time([r1, r2, r3])"
   ]
  },
  {
   "cell_type": "markdown",
   "metadata": {},
   "source": [
    "Dashed lines (--) are tangents on the curves at the first point ($T = 5$ years). Because tangents are linear functions it is visually obvious that the net profit is a non-linear and strictly increasing function with respect to $T$. "
   ]
  },
  {
   "cell_type": "markdown",
   "metadata": {},
   "source": [
    "**This is one of the things to keep in mind when planning personal finances.**"
   ]
  },
  {
   "cell_type": "markdown",
   "metadata": {},
   "source": [
    "#### Example 4B"
   ]
  },
  {
   "cell_type": "markdown",
   "metadata": {},
   "source": [
    "Consider that the money markets offer a flat continuously-compounded rate of 2% over the same period as the loan. Calculate how much the time value of money affects the valuation of the net profit? "
   ]
  },
  {
   "cell_type": "markdown",
   "metadata": {},
   "source": [
    "Parameters:\n",
    "\n",
    "- `r1 = 0.030`, `r2 = 0.045`, `r3 = 0.060`\n",
    "- `rf = 0.020`"
   ]
  },
  {
   "cell_type": "code",
   "execution_count": 25,
   "metadata": {},
   "outputs": [
    {
     "data": {
      "image/png": "[encoded data removed]",
      "text/plain": [
       "<Figure size 432x288 with 1 Axes>"
      ]
     },
     "metadata": {
      "needs_background": "light"
     },
     "output_type": "display_data"
    }
   ],
   "source": [
    "from plotting import plot_total_payment_wrt_time\n",
    "\n",
    "r1, r2, r3, rf = 0.030, 0.045, 0.060, 0.02\n",
    "plot_total_payment_wrt_time([r1, r2, r3], rf)"
   ]
  },
  {
   "cell_type": "markdown",
   "metadata": {},
   "source": [
    "From the lenders perspective, with a positive discount rate the value of an investment decreases. Same holds for the borrower their total loan cost decreases."
   ]
  },
  {
   "cell_type": "markdown",
   "metadata": {},
   "source": [
    "#### Loan term $T$"
   ]
  },
  {
   "cell_type": "markdown",
   "metadata": {},
   "source": [
    "Similar to the sensitivities found for the [net profit](http://localhost:8888/notebooks/Amortized%20Loans.ipynb#Neto-return), it is also possible to solve (1) for the loan term and find that\n",
    "\n",
    "$$ T = \\frac{\\ln\\left(1 - r \\rho^{-1} \\right)}{\\ln\\left( \\frac{1}{1+r} \\right)}, $$\n",
    "\n",
    "where $\\rho = \\frac{A}{P}$ is the percentage of the loan principle that is re-payed each month."
   ]
  },
  {
   "cell_type": "markdown",
   "metadata": {},
   "source": [
    "After carrying out a similar analysis to [net profit](http://localhost:8888/notebooks/Amortized%20Loans.ipynb#Neto-return) it is found that the first-order terms $\\frac{\\partial T}{\\partial r}$ and $\\frac{\\partial T}{\\partial \\rho}$ are a good approximation for the small changes of $r$ and $\\rho$. The respective sensitivities are given as\n",
    "\n",
    "$$ \\frac{\\partial T}{\\partial r} = \\frac{1}{(r-\\rho)\\ln\\left(\\frac{1}{1+r}\\right)} + \\frac{\\ln\\left(1 - r \\rho^{-1}\\right)}{(1+r)\\ln^2\\left(\\frac{1}{1+r}\\right)}, $$\n",
    "\n",
    "and\n",
    "\n",
    "$$ \\frac{\\partial T}{\\partial \\rho} =  - \\frac{r}{\\rho (r-\\rho) \\ln\\left(\\frac{1}{1+r}\\right)}. $$\n"
   ]
  },
  {
   "cell_type": "code",
   "execution_count": 26,
   "metadata": {},
   "outputs": [],
   "source": [
    "%%capture\n",
    "from plotting import plot_term_sensitivity\n",
    "\n",
    "plot_term_sensitivity()"
   ]
  },
  {
   "cell_type": "markdown",
   "metadata": {},
   "source": [
    "The figures show that $\\frac{\\partial T}{\\partial r} > 0$ and $\\frac{\\partial T}{\\partial \\rho} < 0$ . This means that increasing $r$ increases $T$ while increasing $A$ and repaying the loan faster increases $\\rho$ but decreases $T$."
   ]
  },
  {
   "cell_type": "markdown",
   "metadata": {},
   "source": [
    "------"
   ]
  },
  {
   "cell_type": "markdown",
   "metadata": {},
   "source": [
    "### Conclusion"
   ]
  },
  {
   "cell_type": "markdown",
   "metadata": {},
   "source": [
    "What can we do with this information?"
   ]
  },
  {
   "cell_type": "markdown",
   "metadata": {},
   "source": [
    "=> *Inflation helps the borrower but hurts the lender. <=*"
   ]
  },
  {
   "cell_type": "markdown",
   "metadata": {},
   "source": [
    "#### 1) Before Taking a Loan"
   ]
  },
  {
   "cell_type": "markdown",
   "metadata": {},
   "source": [
    "From the four parameters that describe an amortized loan\n",
    "\n",
    "- payment $A$\n",
    "- loan principal $P$\n",
    "- interest rate $r$\n",
    "- loan term $T$,\n",
    "\n",
    "we have _direct control_ over\n",
    "\n",
    "- $P$ \n",
    "- $A$ or $T$ because $A = A(r, T)$ and $T = T(r, A)$.\n",
    "\n",
    "and we have _limited control_ over $r$ because $r = r(T)$.\n",
    "\n",
    "=> *We can have good control of all the risks of borrowing money with amortized loan before taking the loan. <=*"
   ]
  },
  {
   "cell_type": "markdown",
   "metadata": {},
   "source": [
    "#### 2) After Taking a Loan"
   ]
  },
  {
   "cell_type": "markdown",
   "metadata": {},
   "source": [
    "Considering the loan with parameters $A$, $P$, $r$ and $T$ we can actively change one of them and the others are indirectly changed.\n",
    "\n",
    "=> *Finding the sensitivities helps in calculating how the total loan cost changes with respect to the changing parameter.* <="
   ]
  }
 ],
 "metadata": {
  "kernelspec": {
   "display_name": "Python 3 (ipykernel)",
   "language": "python",
   "name": "python3"
  },
  "language_info": {
   "codemirror_mode": {
    "name": "ipython",
    "version": 3
   },
   "file_extension": ".py",
   "mimetype": "text/x-python",
   "name": "python",
   "nbconvert_exporter": "python",
   "pygments_lexer": "ipython3",
   "version": "3.10.4"
  }
 },
 "nbformat": 4,
 "nbformat_minor": 2
}
