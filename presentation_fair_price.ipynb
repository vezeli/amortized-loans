{
 "cells": [
  {
   "cell_type": "markdown",
   "id": "f29ab881",
   "metadata": {},
   "source": [
    "Author: Velibor Zeli\n",
    "\n",
    "This document is released under a common license, allowing for broad usage and distribution."
   ]
  },
  {
   "cell_type": "markdown",
   "id": "6b8694d4",
   "metadata": {},
   "source": [
    "# Fair-Price Models for Amortized Loans"
   ]
  },
  {
   "cell_type": "markdown",
   "id": "4730f280",
   "metadata": {},
   "source": [
    "Fair-price models for amortized loans are used to quantify the **relationship between cost of borrowing and interest rates**. As the loan principal and/or interest rates increase it becomes harder to service the interest and payoff a mortgage."
   ]
  },
  {
   "cell_type": "markdown",
   "id": "5e56a2aa",
   "metadata": {},
   "source": [
    "### Introduction"
   ]
  },
  {
   "cell_type": "markdown",
   "id": "7661a1e9",
   "metadata": {},
   "source": [
    "Amortized loans are a popular debt instrument that people broadly use to finance the purchase of housing. These loans provide liquidity to the housing market and abundance of cheap capital with low interest rates cluminated in higher housing costs."
   ]
  },
  {
   "cell_type": "markdown",
   "id": "31a58c7a",
   "metadata": {},
   "source": [
    "* Stockholm Interbank Offered Rate - STIBOR (Add BBG figure)"
   ]
  },
  {
   "cell_type": "markdown",
   "id": "bb826e1f",
   "metadata": {},
   "source": [
    "* Housing index in Sweden for the same period (Add BBG figure)"
   ]
  },
  {
   "cell_type": "markdown",
   "id": "973527dd",
   "metadata": {},
   "source": [
    "Assuming a causal relationship exists for this correlation, having access to cheap capital by lowering interest rates drives up housing prices. It is logical to think that increasing interest rates would have the opposite effect."
   ]
  },
  {
   "cell_type": "markdown",
   "id": "0894d040",
   "metadata": {},
   "source": [
    "After keeping the interest rate policy loose with a negative policy rate (Swe., styrräntan) since 2015, Riksbanken changed their stance and started aggressively increasing the policy rate since early 2022. This decision had a direct impact on STIBOR, as well as on the interest rates that banks charge for amortized loans."
   ]
  },
  {
   "cell_type": "markdown",
   "id": "e1a60560",
   "metadata": {},
   "source": [
    "---"
   ]
  },
  {
   "cell_type": "markdown",
   "id": "e5063a6a",
   "metadata": {},
   "source": [
    "### Matching Loan Terms"
   ]
  },
  {
   "cell_type": "markdown",
   "id": "0f91fc81",
   "metadata": {},
   "source": [
    "The total cost of borrowing depends for an amortized loan is defined as\n",
    "\n",
    "$$ \\chi = A \\, T, \\qquad (1)$$\n",
    "\n",
    "where $T$ is the duration of the loan, in months, and $A$ is the fixed monthly payment that consists of interest rate payment and amortization. Monthly payment depends on the loan contract and is calculated as\n",
    "\n",
    "$$ A = p \\frac{r}{1 - \\left( \\frac{1}{1 + r} \\right)^T}, \\qquad (2a)$$\n",
    "\n",
    "where $p$ is the loan principal, $r$ is the monthly interest rate."
   ]
  },
  {
   "cell_type": "markdown",
   "id": "0d743ed8",
   "metadata": {},
   "source": [
    "Solving $(2a)$ for the loan term gives\n",
    "\n",
    "$$ T = \\frac{\\ln\\left(1 - r \\frac{p}{A} \\right)}{\\ln\\left( \\frac{1}{1+r} \\right)}. \\qquad (2b) $$"
   ]
  },
  {
   "cell_type": "markdown",
   "id": "71d837bb",
   "metadata": {},
   "source": [
    "We introduce two key terms that are used in determining the repayment duration for housing expenses:\n",
    "\n",
    "* $\\chi$ - total cost of borrowing - including the principal amount borrowed and the associated interest\n",
    "* $\\sigma$ - available income for housing - refers to the portion of income allocated towards housing expenses\n",
    "\n",
    "Together, these terms establish the time scale $t$, representing the number of years required to fully repay the initial principal and interest for housing\n",
    "\n",
    "$$ \\frac{\\chi}{\\sigma} \\equiv t. \\qquad (3a) $$\n",
    "\n",
    "Depending on the location of the housing, borrowers with mortgages may exhibit different values of $ t $. From (3a) it must hold that $ t = T $, implying\n",
    "\n",
    "$$ \\frac{\\chi}{\\sigma} = T. \\qquad (3b) $$"
   ]
  },
  {
   "cell_type": "markdown",
   "id": "417a4be3",
   "metadata": {},
   "source": [
    ">_There exists a time scale $T$ that represents the time needed to pay off a mortgage. Depending on the location of the housing, borrowers with mortgages may exhibit different values of $T$. Equation (3b) suggests that $T$ is a result of a balance between the labor market (monthly income), the financial market (interest rates), and the housing market (initial loan principal)._"
   ]
  },
  {
   "cell_type": "markdown",
   "id": "dc4c3c2b",
   "metadata": {},
   "source": [
    "This means that we can equate\n",
    "\n",
    "$$ T_1 = T_2, $$\n",
    "\n",
    "implying that home buyers consider repaying their homes after the same amount of time under different economic circumstances. By substituting (2b) into the above equality, we can solve for $p_2$:\n",
    "\n",
    "$$ p_2 = \\frac{A_2}{r_2} \\left[ 1 - \\left( 1 - r_1 \\frac{p_1}{A_1} \\right)^{ \\frac{\\ln\\left( \\frac{1}{1 + r_2} \\right)}{\\ln\\left( \\frac{1}{1 + r_1} \\right)} } \\right]. \\qquad (4) $$"
   ]
  },
  {
   "cell_type": "markdown",
   "id": "db25fdbf",
   "metadata": {},
   "source": [
    "Finally, the only unknown is $A$, which can be found by substituting (1) into (3b)\n",
    "\n",
    "$$ A = \\sigma .$$\n",
    "\n",
    "Here, $\\sigma$ is defined as the monthly portion of income allocated for housing\n",
    "\n",
    "$$ A = \\sigma = \\frac{s (1 - \\tau) \\,}{12} \\delta, \\qquad (5) $$\n",
    "\n",
    "where $s$ is the annual income, $\\tau$ is the income tax rate, and $\\delta$ is the fraction of $s$ used for housing."
   ]
  },
  {
   "cell_type": "markdown",
   "id": "97af4a76",
   "metadata": {},
   "source": [
    "---"
   ]
  },
  {
   "cell_type": "markdown",
   "id": "69f9a48b",
   "metadata": {},
   "source": [
    "#### Example 1\n",
    "\n",
    "Consider an economy with an income tax rate of 30%. A borrower with an annual income of 500,000 SEK intends to borrow 2,000,000 SEK at an annaul interest rate of 1.5% and is willing to allocate 50% of her income to service the loan. She anticipates a change in the annual interest rate to 4.8% in 1.5 years. Meanwhile, her annual salary has increased by 2% and money markets offered a flat continuously-compounded annual interest rate of 0.75%. She seeks to determine the equivalent principal $p_2$ for the previous loan under the new circumstances."
   ]
  },
  {
   "cell_type": "markdown",
   "id": "ecbb9995",
   "metadata": {},
   "source": [
    "Parameters for the loan at $t_1$:\n",
    "\n",
    "* `tau = 0.30`\n",
    "* `p1 = 2_000_000`\n",
    "* `r1 = 0.015`\n",
    "* `s1 = 500_000`\n",
    "* `delta = 0.50`\n",
    "* `r2 = 0.048`\n",
    "* `gamma = 0.02`\n",
    "* `s2 = 500_000 * (1 + gamma)`\n",
    "* `rf = 0.0075`\n",
    "* `dt = 1.5`"
   ]
  },
  {
   "cell_type": "code",
   "execution_count": 1,
   "id": "0962d853",
   "metadata": {},
   "outputs": [],
   "source": [
    "gamma, tau, delta = 0.02, 0.30, 0.50\n",
    "p1, r1, s1 = 2_000_000, 0.015, 500_000\n",
    "r2, s2 = 0.0480, 500_000 * (1 + 0.02)\n",
    "rf, dt = 0.0075, 1.5"
   ]
  },
  {
   "cell_type": "code",
   "execution_count": 2,
   "id": "87ff5615",
   "metadata": {},
   "outputs": [
    {
     "name": "stdout",
     "output_type": "stream",
     "text": [
      "Monthly payment at t1: 14,600.00 SEK\n"
     ]
    }
   ],
   "source": [
    "A1 = s1 * (1 - tau) * delta / 12\n",
    "print(f\"Monthly payment at t1: {round(A1, -2):,.2f} SEK\")"
   ]
  },
  {
   "cell_type": "code",
   "execution_count": 3,
   "id": "6a054a3c",
   "metadata": {},
   "outputs": [
    {
     "name": "stdout",
     "output_type": "stream",
     "text": [
      "Monthly payment at t2: 14,900.00 SEK\n"
     ]
    }
   ],
   "source": [
    "A2 = s1 * (1 + 0.02) * (1 - tau) * delta / 12\n",
    "print(f\"Monthly payment at t2: {round(A2, -2):,.2f} SEK\")"
   ]
  },
  {
   "cell_type": "code",
   "execution_count": 4,
   "id": "f557e9af",
   "metadata": {},
   "outputs": [
    {
     "name": "stdout",
     "output_type": "stream",
     "text": [
      "Discounted equivalent principal: 1,660,986.91 SEK\n"
     ]
    }
   ],
   "source": [
    "import numpy as np\n",
    "\n",
    "from fair_price_model import equivalent_principal_matching_T\n",
    "\n",
    "p2 = equivalent_principal_matching_T(p1, s1, r1, r2, tau, delta, gamma) * np.exp(-rf * dt)\n",
    "print(f\"Discounted equivalent principal: {p2:,.2f} SEK\")"
   ]
  },
  {
   "cell_type": "code",
   "execution_count": 5,
   "id": "31b84e22",
   "metadata": {},
   "outputs": [
    {
     "name": "stdout",
     "output_type": "stream",
     "text": [
      "Discounted equivalent principal: -16.95% SEK\n"
     ]
    }
   ],
   "source": [
    "print(f\"Discounted equivalent principal: {(p2 - p1)/p1:.2%} SEK\")"
   ]
  },
  {
   "cell_type": "markdown",
   "id": "30c7798c",
   "metadata": {},
   "source": [
    "---"
   ]
  },
  {
   "cell_type": "markdown",
   "id": "4ac22374",
   "metadata": {},
   "source": [
    "#### Example 2"
   ]
  },
  {
   "cell_type": "markdown",
   "id": "46221bd7",
   "metadata": {},
   "source": [
    "For the parameters given in **Example 1** calculate the relative change of discounted equivalent principal $p_2$ compared to $p_1$ for a range of borrowers with different loan sizes $\\rho = p_1/s_1 \\in [2, 4.5]$ and fractions allocated to repaying the debt $\\delta \\in [0.3, 1]$."
   ]
  },
  {
   "cell_type": "code",
   "execution_count": 6,
   "id": "40e7e37e",
   "metadata": {},
   "outputs": [],
   "source": [
    "%%capture\n",
    "import numpy as np\n",
    "\n",
    "from plotting import plot_matching_T\n",
    "\n",
    "gamma, tau, deltas = 0.02, 0.30, np.arange(0.3, 1.01, 0.01)\n",
    "p1, r1, rhos = 2_000_000, 0.015, np.arange(2, 4.5, 0.05)\n",
    "r2, s2 = 0.0480, 500_000 * (1 + 0.02)\n",
    "rf, dt = 0.0025, 1.5\n",
    "\n",
    "plot_matching_T(p1, rhos, r1, r2, tau, deltas, gamma, rf, dt)"
   ]
  },
  {
   "cell_type": "code",
   "execution_count": null,
   "id": "0511575b",
   "metadata": {},
   "outputs": [],
   "source": []
  }
 ],
 "metadata": {
  "kernelspec": {
   "display_name": "Python 3 (ipykernel)",
   "language": "python",
   "name": "python3"
  },
  "language_info": {
   "codemirror_mode": {
    "name": "ipython",
    "version": 3
   },
   "file_extension": ".py",
   "mimetype": "text/x-python",
   "name": "python",
   "nbconvert_exporter": "python",
   "pygments_lexer": "ipython3",
   "version": "3.10.4"
  }
 },
 "nbformat": 4,
 "nbformat_minor": 5
}
