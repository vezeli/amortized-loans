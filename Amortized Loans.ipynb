{
 "cells": [
  {
   "cell_type": "markdown",
   "metadata": {},
   "source": [
    "# Mathematics behind amortized loans"
   ]
  },
  {
   "cell_type": "markdown",
   "metadata": {},
   "source": [
    "#### Example 1\n",
    "    \n",
    "Jim wants to borrow $P_1$ from the bank. He takes an amortized loan with monthly interest rate of $r$ and agrees to make 3 payments $A$ so that he repays the loan in 3 months."
   ]
  },
  {
   "cell_type": "markdown",
   "metadata": {},
   "source": [
    "Payment schedule:\n",
    "\n",
    "|  Month  | Principal | Interest |  Payoff  |\n",
    "|---------|-----------|----------|----------|\n",
    "|    1    |   $P_1$   |  $P_1r$  |    A     |\n",
    "|    2    |   $P_2$   |  $P_2r$  |    A     |\n",
    "|    3    |   $P_3$   |  $P_3r$  |    A     |\n",
    "|    4    |   $P_4$   |    0     |    0     |\n",
    "\n",
    "where $P_1 \\ge P_2 \\ge P_3 \\ge P_4$."
   ]
  },
  {
   "cell_type": "markdown",
   "metadata": {},
   "source": [
    "Derivation:"
   ]
  },
  {
   "cell_type": "markdown",
   "metadata": {},
   "source": [
    "After the first month Jim ows the interest on the initial principal $P_1 r$ so he makes a payment of $A$ which payes the interest and, the leftover, reduces the outstanding principal. The new principal $P_2$ is than\n",
    "    \n",
    "$$ P_2 = P_1 r - A.$$"
   ]
  },
  {
   "cell_type": "markdown",
   "metadata": {},
   "source": [
    "After the second month Jim owns the interest on the outstanding interest $P_2$ which is $P_2 r$ and makes another payment $A$. This further reduces his outstanding principal which becomes\n",
    "\n",
    "$$P_3 = P_2r - A = (P_1 r - A)r - A.$$"
   ]
  },
  {
   "cell_type": "markdown",
   "metadata": {},
   "source": [
    "Finally, after the third month Jim makes the final payment $A$ and pays off the interest on the remaining principal and the loan\n",
    "\n",
    "$$ P_4 = P_3 r - A = ((P_2 r - A)r - A) = (((P_1r - A) r - A)r - A).$$"
   ]
  },
  {
   "cell_type": "markdown",
   "metadata": {},
   "source": [
    "After the final payment the principal is zero $P_4 = 0$ and $P_1$ is knows. From the generalized form of the above equation we find"
   ]
  },
  {
   "cell_type": "markdown",
   "metadata": {},
   "source": [
    "$$ A = P \\frac{r}{1 - \\left( \\frac{1}{1 + r} \\right)^T}, \\qquad (1)$$\n",
    "$$ A = P \\, \\xi(r, T), \\qquad $$"
   ]
  },
  {
   "cell_type": "markdown",
   "metadata": {},
   "source": [
    "where the symbols denote\n",
    "\n",
    "* monthly payment $A$\n",
    "* loan principal $P$\n",
    "* monthly interest rate $r$\n",
    "* loan term $T$ in months."
   ]
  },
  {
   "cell_type": "markdown",
   "metadata": {},
   "source": [
    "For more detailed derivation see [Wikipedia](https://en.wikipedia.org/wiki/Amortization_calculator)."
   ]
  },
  {
   "cell_type": "markdown",
   "metadata": {},
   "source": [
    "---"
   ]
  },
  {
   "cell_type": "markdown",
   "metadata": {},
   "source": [
    "#### Example 2A"
   ]
  },
  {
   "cell_type": "markdown",
   "metadata": {},
   "source": [
    "Sue wants to borrow 1,000 SEK from the bank with 5% annual interest rate and agrees to repay the loan in 1 year. \n",
    "\n",
    "Parameters:\n",
    "- `p = 1000`\n",
    "- `r = 0.05`\n",
    "- `T = 1`"
   ]
  },
  {
   "cell_type": "code",
   "execution_count": 1,
   "metadata": {},
   "outputs": [],
   "source": [
    "from loan_model import get_payment"
   ]
  },
  {
   "cell_type": "code",
   "execution_count": 2,
   "metadata": {},
   "outputs": [],
   "source": [
    "p, r, T = 1_000, 0.04, 1"
   ]
  },
  {
   "cell_type": "code",
   "execution_count": 3,
   "metadata": {},
   "outputs": [],
   "source": [
    "A = get_payment(p, r, T)"
   ]
  },
  {
   "cell_type": "code",
   "execution_count": 4,
   "metadata": {},
   "outputs": [
    {
     "name": "stdout",
     "output_type": "stream",
     "text": [
      "Monthly payment: 85.15 SEK (8.51% of P)\n"
     ]
    }
   ],
   "source": [
    "print(f\"Monthly payment: {A:.2f} SEK ({A/p:.2%} of P)\")"
   ]
  },
  {
   "cell_type": "code",
   "execution_count": 5,
   "metadata": {},
   "outputs": [
    {
     "name": "stdout",
     "output_type": "stream",
     "text": [
      "Total: 1021.80 SEK (102.18% of P)\n"
     ]
    }
   ],
   "source": [
    "print(f\"Total: {12 * T * A:.2f} SEK ({12 * T * A/p:.2%} of P)\")"
   ]
  },
  {
   "cell_type": "markdown",
   "metadata": {},
   "source": [
    "The monthly income, for the bank,\n",
    "\n",
    "$$\\frac{85.15}{1,000.00} = 8.51\\% ,$$\n",
    "\n",
    "and the neto return for the bank is\n",
    "\n",
    "$$\\eta = \\frac{1,021.80-1,000.00}{1,000.00} = 2.18\\% ,$$"
   ]
  },
  {
   "cell_type": "markdown",
   "metadata": {},
   "source": [
    "and is **less than the annual interest rate 5.00%, on which Sue borrowed, because the principal of an amortized loan is strictly decreasing.**"
   ]
  },
  {
   "cell_type": "markdown",
   "metadata": {},
   "source": [
    "---"
   ]
  },
  {
   "cell_type": "markdown",
   "metadata": {},
   "source": [
    "#### Example 2B"
   ]
  },
  {
   "cell_type": "markdown",
   "metadata": {},
   "source": [
    "However, what happens if Sue borrowed the money for 10 years?\n",
    "\n",
    "Parameters:\n",
    "- `P = 1000`\n",
    "- `r = 0.05`\n",
    "- `T = 10`"
   ]
  },
  {
   "cell_type": "code",
   "execution_count": 6,
   "metadata": {},
   "outputs": [],
   "source": [
    "p, r, T = 1_000, 0.04, 10"
   ]
  },
  {
   "cell_type": "code",
   "execution_count": 7,
   "metadata": {},
   "outputs": [],
   "source": [
    "A = get_payment(p, r, T)"
   ]
  },
  {
   "cell_type": "code",
   "execution_count": 8,
   "metadata": {},
   "outputs": [
    {
     "name": "stdout",
     "output_type": "stream",
     "text": [
      "Monthly payment: 10.12 SEK (1.01% of P)\n"
     ]
    }
   ],
   "source": [
    "print(f\"Monthly payment: {A:.2f} SEK ({A/p:.2%} of P)\")"
   ]
  },
  {
   "cell_type": "code",
   "execution_count": 9,
   "metadata": {},
   "outputs": [
    {
     "name": "stdout",
     "output_type": "stream",
     "text": [
      "Total: 1214.94 SEK (121.49% of P)\n"
     ]
    }
   ],
   "source": [
    "print(f\"Total: {12 * T * A:.2f} SEK ({12 * T * A/p:.2%} of P)\")"
   ]
  },
  {
   "cell_type": "markdown",
   "metadata": {},
   "source": [
    "The monthly income, for the bank,\n",
    "\n",
    "$$\\frac{10.12}{1,000.00} = 1.01\\% $$\n",
    "\n",
    "and the neto return for the bank is\n",
    "\n",
    "$$\\eta = \\frac{1,214.94-1,000.00}{1,000.00} = 21.49\\% .$$"
   ]
  },
  {
   "cell_type": "markdown",
   "metadata": {},
   "source": [
    "In this scenario, **the monthly payment is lower than in the previous scenario but the neto return for the bank is much higher.**"
   ]
  },
  {
   "cell_type": "markdown",
   "metadata": {},
   "source": [
    "---"
   ]
  },
  {
   "cell_type": "markdown",
   "metadata": {},
   "source": [
    "### Dynamics of Amortized Loans"
   ]
  },
  {
   "cell_type": "markdown",
   "metadata": {},
   "source": [
    "Amortized loans are payed off with monthly payments $A$ that compose of\n",
    "\n",
    "- interest payments $ I $\n",
    "- amortization $ A^\\prime $ is the part that reduces the outsdanding principal\n",
    "\n",
    "meaning that we can write\n",
    "\n",
    "$$ A = I + A^\\prime .$$"
   ]
  },
  {
   "cell_type": "markdown",
   "metadata": {},
   "source": [
    "#### Example 3"
   ]
  },
  {
   "cell_type": "markdown",
   "metadata": {},
   "source": [
    "Consider a millennial Svensson family that wants to take on a mortgage to borrow 2 500 000 SEK for 30 years assuming that the family gets 4.5% interest rate."
   ]
  },
  {
   "cell_type": "markdown",
   "metadata": {},
   "source": [
    "Parameters:\n",
    "- `P = 2500000`\n",
    "- `r = 0.045`\n",
    "- `T = 30`"
   ]
  },
  {
   "cell_type": "code",
   "execution_count": 10,
   "metadata": {},
   "outputs": [],
   "source": [
    "p, r, T = 2_500_000, 0.045, 30"
   ]
  },
  {
   "cell_type": "code",
   "execution_count": 11,
   "metadata": {},
   "outputs": [],
   "source": [
    "A = get_payment(p, r, T)"
   ]
  },
  {
   "cell_type": "code",
   "execution_count": 12,
   "metadata": {},
   "outputs": [
    {
     "name": "stdout",
     "output_type": "stream",
     "text": [
      "Monthly payment: 12667.13 SEK (0.51% of P)\n"
     ]
    }
   ],
   "source": [
    "print(f\"Monthly payment: {A:.2f} SEK ({A/p:.2%} of P)\")"
   ]
  },
  {
   "cell_type": "markdown",
   "metadata": {},
   "source": [
    "Visualisation:"
   ]
  },
  {
   "cell_type": "code",
   "execution_count": 13,
   "metadata": {},
   "outputs": [],
   "source": [
    "from plotting import plot_loan_dynamics"
   ]
  },
  {
   "cell_type": "code",
   "execution_count": 14,
   "metadata": {},
   "outputs": [
    {
     "name": "stdout",
     "output_type": "stream",
     "text": [
      "Principal: 2,500,000 SEK; Interest rate: 4.50%; Term: 30 Y => 82.41%\n"
     ]
    },
    {
     "data": {
      "image/png": "[encoded data removed]",
      "text/plain": [
       "<Figure size 432x288 with 1 Axes>"
      ]
     },
     "metadata": {
      "needs_background": "light"
     },
     "output_type": "display_data"
    },
    {
     "data": {
      "image/png": "[encoded data removed]",
      "text/plain": [
       "<Figure size 432x288 with 1 Axes>"
      ]
     },
     "metadata": {
      "needs_background": "light"
     },
     "output_type": "display_data"
    },
    {
     "data": {
      "image/png": "[encoded data removed]",
      "text/plain": [
       "<Figure size 432x288 with 1 Axes>"
      ]
     },
     "metadata": {
      "needs_background": "light"
     },
     "output_type": "display_data"
    }
   ],
   "source": [
    "plot_loan_dynamics(p, r, T)"
   ]
  },
  {
   "cell_type": "markdown",
   "metadata": {},
   "source": [
    "How much would the Svenssons be paying for the same mortgage if their interest rates were 3% or 6%? "
   ]
  },
  {
   "cell_type": "markdown",
   "metadata": {},
   "source": [
    "Parameters:\n",
    "- `P = 2500000`\n",
    "- `r1 = 0.030`, `r2 = 0.045`, `r3 = 0.060`\n",
    "- `T = 30`"
   ]
  },
  {
   "cell_type": "raw",
   "metadata": {},
   "source": [
    "from plotting import plot_rate_difference\n",
    "\n",
    "p, r1, r2, r3, T = 2_500_000, 0.030, 0.045, 0.060, 30\n",
    "plot_rate_difference(p, r1, r2, r3, T)"
   ]
  },
  {
   "cell_type": "markdown",
   "metadata": {},
   "source": [
    "| Principal [SEK] | Rate [%/Y]          | Term [Y] | $\\eta$ [%] | $I/A$ [%] |\n",
    "|-----------------|---------------------|----------|------------|-----------|\n",
    "| 2 500 000       | 3.0                 | 30       |  51.78     |  51.78    |\n",
    "| 2 500 000       | 4.5                 | 30       |  82.41     |  82.41    |\n",
    "| 2 500 000       | 6.0                 | 30       | 115.84     | 115.84    |"
   ]
  },
  {
   "cell_type": "markdown",
   "metadata": {},
   "source": [
    "Observe $ \\eta = \\frac{I}{A} $ which implies that **the neto return for the borrower is the payed interest.**"
   ]
  },
  {
   "cell_type": "markdown",
   "metadata": {},
   "source": [
    "How much would the Svenssons pay if they decied to pay off the loan, with the original parameters, in 10 or 20 years instead? "
   ]
  },
  {
   "cell_type": "markdown",
   "metadata": {},
   "source": [
    "Parameters:\n",
    "- `P = 2500000`\n",
    "- `r = 0.045`\n",
    "- `T1 = 10`, `T2 = 20`, `T3 = 30`"
   ]
  },
  {
   "cell_type": "raw",
   "metadata": {},
   "source": [
    "from plotting import plot_term_difference\n",
    "\n",
    "p, r, T1, T2, T3 = 2_500_000, 0.045, 10, 20, 30\n",
    "plot_term_difference(p, r, T1, T2, T3)"
   ]
  },
  {
   "cell_type": "markdown",
   "metadata": {},
   "source": [
    "| Principal [SEK] | Rate [%/Y]          | Term [Y] | $\\eta$ [%] | $I/A$ [%] |\n",
    "|-----------------|---------------------|----------|------------|-----------|\n",
    "| 2 500 000       | 4.5                 | 10       | 24.37      | 24.37     |\n",
    "| 2 500 000       | 4.5                 | 20       | 51.84      | 51.84     |\n",
    "| 2 500 000       | 4.5                 | 30       | 82.41      | 82.41     |"
   ]
  },
  {
   "cell_type": "markdown",
   "metadata": {},
   "source": [
    "### Time Value of Money"
   ]
  },
  {
   "cell_type": "markdown",
   "metadata": {},
   "source": [
    "Consider the same scenario in which the Svenssons what to borrow 2 500 000 SEK with interest rate 4.5% and they can choose either loan terms of 10, 20 or 30 years. Assume that money markets offer a flat continuously-compounded rate of 1.5% over the same period. How does this affect the valuation of future cash flows?"
   ]
  },
  {
   "cell_type": "markdown",
   "metadata": {},
   "source": [
    "Parameters:\n",
    "- `P = 2500000`\n",
    "- `r = 0.045`\n",
    "- `T1 = 10`, `T2 = 20`, `T3 = 30`\n",
    "- `rf = 0.015`"
   ]
  },
  {
   "cell_type": "raw",
   "metadata": {},
   "source": [
    "from plotting import plot_term_difference\n",
    "\n",
    "p, r, T1, T2, T3, rf = 2_500_000, 0.045, 10, 20, 30, 0.015\n",
    "plot_term_difference(p, r, T1, T2, T3, 0.015)"
   ]
  },
  {
   "cell_type": "markdown",
   "metadata": {},
   "source": [
    "| Principal [SEK] | Rate [%/Y]          | Term [Y] | $\\eta$ [%] | $I/A$ [%] |\n",
    "|-----------------|---------------------|----------|------------|-----------|\n",
    "| 2 500 000       | 4.5                 | 10       | 15.41      | 25.06     |\n",
    "| 2 500 000       | 4.5                 | 20       | 31.09      | 55.26     |\n",
    "| 2 500 000       | 4.5                 | 30       | 46.80      | 91.69     |"
   ]
  },
  {
   "cell_type": "markdown",
   "metadata": {},
   "source": [
    "---"
   ]
  },
  {
   "cell_type": "markdown",
   "metadata": {},
   "source": [
    "### Conclusion"
   ]
  },
  {
   "cell_type": "markdown",
   "metadata": {},
   "source": [
    "What can we do with this information?"
   ]
  },
  {
   "cell_type": "markdown",
   "metadata": {},
   "source": [
    "#### Planning ahead"
   ]
  },
  {
   "cell_type": "markdown",
   "metadata": {},
   "source": [
    "From the three parameters that describe an amortized loan\n",
    "\n",
    "- loan principal $P$\n",
    "- monthly interest rate $r$\n",
    "- loan term $T$\n",
    "\n",
    "we have direct control over $p$ and $T$ and indirect control over $r$ (i.e., for a choose $T$ bank offers $r$)."
   ]
  },
  {
   "cell_type": "markdown",
   "metadata": {},
   "source": [
    "### How does the neto return change with respect to the loan term?"
   ]
  },
  {
   "cell_type": "markdown",
   "metadata": {},
   "source": [
    "#### Analytical solution"
   ]
  },
  {
   "cell_type": "markdown",
   "metadata": {},
   "source": [
    "The neto return $\\Sigma$ is defined as the sum of all monthly payments $A$ scaled by the initial principle $P$\n",
    "\n",
    "$$ \\Sigma = \\frac{A \\, T}{P}, \\qquad (2)$$\n",
    "\n",
    "where $T$ is the total number of months during the loan term. We find the change of neto return by substituting (1) in (2) we get\n",
    "\n",
    "$$ \\frac{\\mathrm{d}\\Sigma}{\\mathrm{d}T} = r \\frac{\\mathrm{d}}{\\mathrm{d}T} \\frac{T}{1 - \\left( \\frac{1}{1 + r} \\right)^T},$$"
   ]
  },
  {
   "cell_type": "markdown",
   "metadata": {},
   "source": [
    "$$\\frac{\\mathrm{d}\\Sigma}{\\mathrm{d}T} = r \\frac{1 - \\left( \\frac{1}{1 + r}\\right)^T \\left(1 - T \\ln \\left( \\frac{1}{1 + r} \\right)\\right)}{\\left( 1 - \\left( \\frac{1}{1 + r} \\right)^T \\right)^2}.$$"
   ]
  },
  {
   "cell_type": "markdown",
   "metadata": {},
   "source": [
    "#### Numerical solution"
   ]
  },
  {
   "cell_type": "markdown",
   "metadata": {},
   "source": [
    "Consider three rates:\n",
    "\n",
    "- `r = 2.00%`\n",
    "- `r = 4.00%`\n",
    "- `r = 6.00%`"
   ]
  },
  {
   "cell_type": "code",
   "execution_count": 18,
   "metadata": {
    "scrolled": true
   },
   "outputs": [
    {
     "data": {
      "image/png": "[encoded data removed]",
      "text/plain": [
       "<Figure size 432x288 with 1 Axes>"
      ]
     },
     "metadata": {
      "needs_background": "light"
     },
     "output_type": "display_data"
    }
   ],
   "source": [
    "from plotting import plot_total_payment_wrt_time\n",
    "\n",
    "plot_total_payment_wrt_time([0.02, 0.045, 0.06],0.04)"
   ]
  },
  {
   "cell_type": "markdown",
   "metadata": {},
   "source": [
    "Dashed lines (--) are tangents on the curves at the first point ($T = 5$ years). Because tangents are linear functions they make it visually obvious that the neto return has a non-linear growth with increasing loan term `T`. **This is particullarly important to keep in mind when planning personal finances.**"
   ]
  },
  {
   "cell_type": "markdown",
   "metadata": {},
   "source": [
    "From the lenders perspective it is useful to discount the future cash flow from the amortized loan with a flat continuously-compounded discount rate to approximate for the time value of money. To illustrate this we discount the results from the above graph with discount rate `rf = 4%`."
   ]
  },
  {
   "cell_type": "code",
   "execution_count": 16,
   "metadata": {},
   "outputs": [
    {
     "data": {
      "image/png": "[encoded data removed]",
      "text/plain": [
       "<Figure size 432x288 with 1 Axes>"
      ]
     },
     "metadata": {
      "needs_background": "light"
     },
     "output_type": "display_data"
    }
   ],
   "source": [
    "plot_total_payment_wrt_time([0.02, 0.04, 0.06], rf=0.04)"
   ]
  },
  {
   "cell_type": "markdown",
   "metadata": {},
   "source": [
    "In this scenario, from the lenders perspective, the lender is losing money when they lend at interest rate `r=2%`."
   ]
  },
  {
   "cell_type": "markdown",
   "metadata": {},
   "source": [
    "------"
   ]
  },
  {
   "cell_type": "markdown",
   "metadata": {},
   "source": [
    "### Components of the amortized loan"
   ]
  },
  {
   "cell_type": "code",
   "execution_count": null,
   "metadata": {},
   "outputs": [],
   "source": []
  }
 ],
 "metadata": {
  "kernelspec": {
   "display_name": "Python 3 (ipykernel)",
   "language": "python",
   "name": "python3"
  },
  "language_info": {
   "codemirror_mode": {
    "name": "ipython",
    "version": 3
   },
   "file_extension": ".py",
   "mimetype": "text/x-python",
   "name": "python",
   "nbconvert_exporter": "python",
   "pygments_lexer": "ipython3",
   "version": "3.10.4"
  }
 },
 "nbformat": 4,
 "nbformat_minor": 2
}
